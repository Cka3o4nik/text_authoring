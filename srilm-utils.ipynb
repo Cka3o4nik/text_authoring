{
 "cells": [
  {
   "cell_type": "code",
   "execution_count": null,
   "metadata": {},
   "outputs": [],
   "source": [
    "!ls $SRILM_PATH/ngram"
   ]
  },
  {
   "cell_type": "code",
   "execution_count": null,
   "metadata": {},
   "outputs": [],
   "source": [
    "!ls tmp"
   ]
  },
  {
   "cell_type": "code",
   "execution_count": null,
   "metadata": {},
   "outputs": [],
   "source": [
    "!ls"
   ]
  },
  {
   "cell_type": "markdown",
   "metadata": {},
   "source": [
    "Основной скрипт - srilm_utils.py. его параметры:\n",
    "\n",
    "Создание модели по папке с исходными файлами:\n",
    "create_full_lm order src_path file_mask dst_path tmp_path [vocab_file] [smooth_args]\n",
    "\n",
    "Создание статистики:\n",
    "create_ngram_stats order src_path file_mask dst_path tmp_path [prev_stats]\n",
    "\n",
    "Создание модели по готовой статистике:\n",
    "create_lm order src_path dst_path [vocab_file] [smooth_args]"
   ]
  },
  {
   "cell_type": "code",
   "execution_count": null,
   "metadata": {},
   "outputs": [],
   "source": [
    "SRILM_PATH = '/SRILM/bin/i686-m64'"
   ]
  },
  {
   "cell_type": "code",
   "execution_count": 1,
   "metadata": {
    "scrolled": true
   },
   "outputs": [
    {
     "name": "stderr",
     "output_type": "stream",
     "text": [
      "2020-01-20 15:15:13 FILE_OP INFO \"self: '', arg: u'logs/'\". Variable type: <type 'str'>\n",
      "2020-01-20 15:15:13 FILE_OP INFO \"self: './input/\\\\xd0\\\\x94\\\\xd0\\\\xb5\\\\xd1\\\\x81\\\\xd0\\\\xbf\\\\xd0\\\\xb5\\\\xd1\\\\x80\\\\xd0\\\\xbe', arg: '\\\\xd0\\\\x94\\\\xd0\\\\xb8\\\\xd0\\\\xba\\\\xd0\\\\xb0\\\\xd0\\\\xbc\\\\xd0\\\\xb8\\\\xd0\\\\xbb\\\\xd0\\\\xbb\\\\xd0\\\\xbe \\\\xd0\\\\x9a\\\\xd0\\\\xb5\\\\xd0\\\\xb9\\\\xd1\\\\x82. \\\\xd0\\\\x9f\\\\xd0\\\\xa0\\\\xd0\\\\x98\\\\xd0\\\\x9a\\\\xd0\\\\x9b\\\\xd0\\\\xae\\\\xd0\\\\xa7\\\\xd0\\\\x95\\\\xd0\\\\x9d\\\\xd0\\\\x98\\\\xd0\\\\xaf \\\\xd0\\\\x9c\\\\xd0\\\\xab\\\\xd0\\\\xa8\\\\xd0\\\\x9e\\\\xd0\\\\x9d\\\\xd0\\\\x9a\\\\xd0\\\\x90 \\\\xd0\\\\x94\\\\xd0\\\\x95\\\\xd0\\\\xa1\\\\xd0\\\\x9f\\\\xd0\\\\x95\\\\xd0\\\\xa0\\\\xd0\\\\x9e - royallib.ru.txt_lm'\". Variable type: <type 'str'>\n",
      "2020-01-20 15:15:13 FILE_OP INFO \"self: './input/\\\\xd0\\\\x94\\\\xd0\\\\xb5\\\\xd1\\\\x81\\\\xd0\\\\xbf\\\\xd0\\\\xb5\\\\xd1\\\\x80\\\\xd0\\\\xbe', arg: '\\\\xd0\\\\x94\\\\xd0\\\\xb8\\\\xd0\\\\xba\\\\xd0\\\\xb0\\\\xd0\\\\xbc\\\\xd0\\\\xb8\\\\xd0\\\\xbb\\\\xd0\\\\xbb\\\\xd0\\\\xbe \\\\xd0\\\\x9a\\\\xd0\\\\xb5\\\\xd0\\\\xb9\\\\xd1\\\\x82. \\\\xd0\\\\x9f\\\\xd0\\\\xa0\\\\xd0\\\\x98\\\\xd0\\\\x9a\\\\xd0\\\\x9b\\\\xd0\\\\xae\\\\xd0\\\\xa7\\\\xd0\\\\x95\\\\xd0\\\\x9d\\\\xd0\\\\x98\\\\xd0\\\\xaf \\\\xd0\\\\x9c\\\\xd0\\\\xab\\\\xd0\\\\xa8\\\\xd0\\\\x9e\\\\xd0\\\\x9d\\\\xd0\\\\x9a\\\\xd0\\\\x90 \\\\xd0\\\\x94\\\\xd0\\\\x95\\\\xd0\\\\xa1\\\\xd0\\\\x9f\\\\xd0\\\\x95\\\\xd0\\\\xa0\\\\xd0\\\\x9e - royallib.ru.txt'\". Variable type: <type 'str'>\n",
      "2020-01-20 15:15:13 FILE_OP INFO \"self: './input/\\\\xd0\\\\x94\\\\xd0\\\\xb5\\\\xd1\\\\x81\\\\xd0\\\\xbf\\\\xd0\\\\xb5\\\\xd1\\\\x80\\\\xd0\\\\xbe', arg: '\\\\xd0\\\\x94\\\\xd0\\\\xb8\\\\xd0\\\\xba\\\\xd0\\\\xb0\\\\xd0\\\\xbc\\\\xd0\\\\xb8\\\\xd0\\\\xbb\\\\xd0\\\\xbb\\\\xd0\\\\xbe \\\\xd0\\\\x9a\\\\xd0\\\\xb5\\\\xd0\\\\xb9\\\\xd1\\\\x82. \\\\xd0\\\\x9f\\\\xd0\\\\xa0\\\\xd0\\\\x98\\\\xd0\\\\x9a\\\\xd0\\\\x9b\\\\xd0\\\\xae\\\\xd0\\\\xa7\\\\xd0\\\\x95\\\\xd0\\\\x9d\\\\xd0\\\\x98\\\\xd0\\\\xaf \\\\xd0\\\\x9c\\\\xd0\\\\xab\\\\xd0\\\\xa8\\\\xd0\\\\x9e\\\\xd0\\\\x9d\\\\xd0\\\\x9a\\\\xd0\\\\x90 \\\\xd0\\\\x94\\\\xd0\\\\x95\\\\xd0\\\\xa1\\\\xd0\\\\x9f\\\\xd0\\\\x95\\\\xd0\\\\xa0\\\\xd0\\\\x9e - royallib.ru.txt.processed'\". Variable type: <type 'str'>\n",
      "2020-01-20 15:15:13 DFLT INFO Searching for source files Дикамилло Кейт. ПРИКЛЮЧЕНИЯ МЫШОНКА ДЕСПЕРО - royallib.ru.txt.processed in [./input/Десперо]:\n",
      "2020-01-20 15:15:13 DFLT INFO Searching for \"Дикамилло Кейт. ПРИКЛЮЧЕНИЯ МЫШОНКА ДЕСПЕРО - royallib.ru.txt.processed\" in path [./input/Десперо]...\n",
      "2020-01-20 15:15:13 FILE_OP INFO \"self: './input/\\\\xd0\\\\x94\\\\xd0\\\\xb5\\\\xd1\\\\x81\\\\xd0\\\\xbf\\\\xd0\\\\xb5\\\\xd1\\\\x80\\\\xd0\\\\xbe', arg: '\\\\xd0\\\\x94\\\\xd0\\\\xb8\\\\xd0\\\\xba\\\\xd0\\\\xb0\\\\xd0\\\\xbc\\\\xd0\\\\xb8\\\\xd0\\\\xbb\\\\xd0\\\\xbb\\\\xd0\\\\xbe \\\\xd0\\\\x9a\\\\xd0\\\\xb5\\\\xd0\\\\xb9\\\\xd1\\\\x82. \\\\xd0\\\\x9f\\\\xd0\\\\xa0\\\\xd0\\\\x98\\\\xd0\\\\x9a\\\\xd0\\\\x9b\\\\xd0\\\\xae\\\\xd0\\\\xa7\\\\xd0\\\\x95\\\\xd0\\\\x9d\\\\xd0\\\\x98\\\\xd0\\\\xaf \\\\xd0\\\\x9c\\\\xd0\\\\xab\\\\xd0\\\\xa8\\\\xd0\\\\x9e\\\\xd0\\\\x9d\\\\xd0\\\\x9a\\\\xd0\\\\x90 \\\\xd0\\\\x94\\\\xd0\\\\x95\\\\xd0\\\\xa1\\\\xd0\\\\x9f\\\\xd0\\\\x95\\\\xd0\\\\xa0\\\\xd0\\\\x9e - royallib.ru.txt'\". Variable type: <type 'str'>\n",
      "2020-01-20 15:15:13 FILE_OP INFO \"self: './input/\\\\xd0\\\\x94\\\\xd0\\\\xb5\\\\xd1\\\\x81\\\\xd0\\\\xbf\\\\xd0\\\\xb5\\\\xd1\\\\x80\\\\xd0\\\\xbe', arg: u'DiCamillo Kate. The Tale of Despereaux - royallib.com.txt'\". Variable type: <type 'str'>\n",
      "2020-01-20 15:15:13 FILE_OP INFO \"self: './input/\\\\xd0\\\\x94\\\\xd0\\\\xb5\\\\xd1\\\\x81\\\\xd0\\\\xbf\\\\xd0\\\\xb5\\\\xd1\\\\x80\\\\xd0\\\\xbe', arg: '\\\\xd0\\\\x94\\\\xd0\\\\xb8\\\\xd0\\\\xba\\\\xd0\\\\xb0\\\\xd0\\\\xbc\\\\xd0\\\\xb8\\\\xd0\\\\xbb\\\\xd0\\\\xbb\\\\xd0\\\\xbe \\\\xd0\\\\x9a\\\\xd0\\\\xb5\\\\xd0\\\\xb9\\\\xd1\\\\x82. \\\\xd0\\\\x9f\\\\xd0\\\\xa0\\\\xd0\\\\x98\\\\xd0\\\\x9a\\\\xd0\\\\x9b\\\\xd0\\\\xae\\\\xd0\\\\xa7\\\\xd0\\\\x95\\\\xd0\\\\x9d\\\\xd0\\\\x98\\\\xd0\\\\xaf \\\\xd0\\\\x9c\\\\xd0\\\\xab\\\\xd0\\\\xa8\\\\xd0\\\\x9e\\\\xd0\\\\x9d\\\\xd0\\\\x9a\\\\xd0\\\\x90 \\\\xd0\\\\x94\\\\xd0\\\\x95\\\\xd0\\\\xa1\\\\xd0\\\\x9f\\\\xd0\\\\x95\\\\xd0\\\\xa0\\\\xd0\\\\x9e - royallib.ru.txt.processed'\". Variable type: <type 'str'>\n",
      "2020-01-20 15:15:13 FILE_OP INFO \"self: './input/\\\\xd0\\\\x94\\\\xd0\\\\xb5\\\\xd1\\\\x81\\\\xd0\\\\xbf\\\\xd0\\\\xb5\\\\xd1\\\\x80\\\\xd0\\\\xbe', arg: '.\\\\xd0\\\\x94\\\\xd0\\\\xb8\\\\xd0\\\\xba\\\\xd0\\\\xb0\\\\xd0\\\\xbc\\\\xd0\\\\xb8\\\\xd0\\\\xbb\\\\xd0\\\\xbb\\\\xd0\\\\xbe \\\\xd0\\\\x9a\\\\xd0\\\\xb5\\\\xd0\\\\xb9\\\\xd1\\\\x82. \\\\xd0\\\\x9f\\\\xd0\\\\xa0\\\\xd0\\\\x98\\\\xd0\\\\x9a\\\\xd0\\\\x9b\\\\xd0\\\\xae\\\\xd0\\\\xa7\\\\xd0\\\\x95\\\\xd0\\\\x9d\\\\xd0\\\\x98\\\\xd0\\\\xaf \\\\xd0\\\\x9c\\\\xd0\\\\xab\\\\xd0\\\\xa8\\\\xd0\\\\x9e\\\\xd0\\\\x9d\\\\xd0\\\\x9a\\\\xd0\\\\x90 \\\\xd0\\\\x94\\\\xd0\\\\x95\\\\xd0\\\\xa1\\\\xd0\\\\x9f\\\\xd0\\\\x95\\\\xd0\\\\xa0\\\\xd0\\\\x9e - royallib.ru.txt.swp'\". Variable type: <type 'str'>\n",
      "2020-01-20 15:15:13 FILE_OP INFO \"self: './input/\\\\xd0\\\\x94\\\\xd0\\\\xb5\\\\xd1\\\\x81\\\\xd0\\\\xbf\\\\xd0\\\\xb5\\\\xd1\\\\x80\\\\xd0\\\\xbe', arg: u'DiCamillo Kate. The Tale of Despereaux - royallib.com.txt.processed'\". Variable type: <type 'str'>\n",
      "2020-01-20 15:15:13 FILE_OP INFO \"self: './input/\\\\xd0\\\\x94\\\\xd0\\\\xb5\\\\xd1\\\\x81\\\\xd0\\\\xbf\\\\xd0\\\\xb5\\\\xd1\\\\x80\\\\xd0\\\\xbe/DiCamillo Kate. The Tale of Despereaux - royallib.com.txt_lm', arg: u'ngram.count'\". Variable type: <type 'str'>\n",
      "2020-01-20 15:15:13 FILE_OP INFO \"self: './input/\\\\xd0\\\\x94\\\\xd0\\\\xb5\\\\xd1\\\\x81\\\\xd0\\\\xbf\\\\xd0\\\\xb5\\\\xd1\\\\x80\\\\xd0\\\\xbe/DiCamillo Kate. The Tale of Despereaux - royallib.com.txt_lm', arg: u'lang.model'\". Variable type: <type 'str'>\n",
      "2020-01-20 15:15:13 FILE_OP INFO \"self: './input/\\\\xd0\\\\x94\\\\xd0\\\\xb5\\\\xd1\\\\x81\\\\xd0\\\\xbf\\\\xd0\\\\xb5\\\\xd1\\\\x80\\\\xd0\\\\xbe/DiCamillo Kate. The Tale of Despereaux - royallib.com.txt_lm', arg: u'DiCamillo Kate. The Tale of Despereaux - royallib.com.txt_lm.zip'\". Variable type: <type 'str'>\n",
      "2020-01-20 15:15:13 FILE_OP INFO \"self: './input/\\\\xd0\\\\x94\\\\xd0\\\\xb5\\\\xd1\\\\x81\\\\xd0\\\\xbf\\\\xd0\\\\xb5\\\\xd1\\\\x80\\\\xd0\\\\xbe/\\\\xd0\\\\x94\\\\xd0\\\\xb8\\\\xd0\\\\xba\\\\xd0\\\\xb0\\\\xd0\\\\xbc\\\\xd0\\\\xb8\\\\xd0\\\\xbb\\\\xd0\\\\xbb\\\\xd0\\\\xbe \\\\xd0\\\\x9a\\\\xd0\\\\xb5\\\\xd0\\\\xb9\\\\xd1\\\\x82. \\\\xd0\\\\x9f\\\\xd0\\\\xa0\\\\xd0\\\\x98\\\\xd0\\\\x9a\\\\xd0\\\\x9b\\\\xd0\\\\xae\\\\xd0\\\\xa7\\\\xd0\\\\x95\\\\xd0\\\\x9d\\\\xd0\\\\x98\\\\xd0\\\\xaf \\\\xd0\\\\x9c\\\\xd0\\\\xab\\\\xd0\\\\xa8\\\\xd0\\\\x9e\\\\xd0\\\\x9d\\\\xd0\\\\x9a\\\\xd0\\\\x90 \\\\xd0\\\\x94\\\\xd0\\\\x95\\\\xd0\\\\xa1\\\\xd0\\\\x9f\\\\xd0\\\\x95\\\\xd0\\\\xa0\\\\xd0\\\\x9e - royallib.ru.txt_lm', arg: u'ngram.count'\". Variable type: <type 'str'>\n",
      "2020-01-20 15:15:13 FILE_OP INFO \"self: './input/\\\\xd0\\\\x94\\\\xd0\\\\xb5\\\\xd1\\\\x81\\\\xd0\\\\xbf\\\\xd0\\\\xb5\\\\xd1\\\\x80\\\\xd0\\\\xbe/\\\\xd0\\\\x94\\\\xd0\\\\xb8\\\\xd0\\\\xba\\\\xd0\\\\xb0\\\\xd0\\\\xbc\\\\xd0\\\\xb8\\\\xd0\\\\xbb\\\\xd0\\\\xbb\\\\xd0\\\\xbe \\\\xd0\\\\x9a\\\\xd0\\\\xb5\\\\xd0\\\\xb9\\\\xd1\\\\x82. \\\\xd0\\\\x9f\\\\xd0\\\\xa0\\\\xd0\\\\x98\\\\xd0\\\\x9a\\\\xd0\\\\x9b\\\\xd0\\\\xae\\\\xd0\\\\xa7\\\\xd0\\\\x95\\\\xd0\\\\x9d\\\\xd0\\\\x98\\\\xd0\\\\xaf \\\\xd0\\\\x9c\\\\xd0\\\\xab\\\\xd0\\\\xa8\\\\xd0\\\\x9e\\\\xd0\\\\x9d\\\\xd0\\\\x9a\\\\xd0\\\\x90 \\\\xd0\\\\x94\\\\xd0\\\\x95\\\\xd0\\\\xa1\\\\xd0\\\\x9f\\\\xd0\\\\x95\\\\xd0\\\\xa0\\\\xd0\\\\x9e - royallib.ru.txt_lm', arg: u'lang.model'\". Variable type: <type 'str'>\n",
      "2020-01-20 15:15:13 DFLT INFO Files found: 1\n",
      "2020-01-20 15:15:13 DFLT INFO Sources found: 1\n",
      "2020-01-20 15:15:13 DFLT INFO Reading sources piped to ngram-count for statistics...\n",
      "2020-01-20 15:15:13 DFLT INFO 0 lines read\n",
      "2020-01-20 15:15:13 FILE_OP INFO \"self: './tmp', arg: u'ngram.count.0'\". Variable type: <type 'str'>\n",
      "2020-01-20 15:15:13 FILE_OP INFO executing path: [\"/SRILM/bin/i686-m64/ngram-count\" \"-order\" \"3\" \"-text\" \"-\" \"-sort\" \"-write\" \"./tmp/ngram.count.0\"]\n",
      "2020-01-20 15:15:13 DFLT INFO Source reading finished. Waiting for ngram-counts finish...\n",
      "2020-01-20 15:15:13 FILE_OP INFO \"self: './input/\\\\xd0\\\\x94\\\\xd0\\\\xb5\\\\xd1\\\\x81\\\\xd0\\\\xbf\\\\xd0\\\\xb5\\\\xd1\\\\x80\\\\xd0\\\\xbe/\\\\xd0\\\\x94\\\\xd0\\\\xb8\\\\xd0\\\\xba\\\\xd0\\\\xb0\\\\xd0\\\\xbc\\\\xd0\\\\xb8\\\\xd0\\\\xbb\\\\xd0\\\\xbb\\\\xd0\\\\xbe \\\\xd0\\\\x9a\\\\xd0\\\\xb5\\\\xd0\\\\xb9\\\\xd1\\\\x82. \\\\xd0\\\\x9f\\\\xd0\\\\xa0\\\\xd0\\\\x98\\\\xd0\\\\x9a\\\\xd0\\\\x9b\\\\xd0\\\\xae\\\\xd0\\\\xa7\\\\xd0\\\\x95\\\\xd0\\\\x9d\\\\xd0\\\\x98\\\\xd0\\\\xaf \\\\xd0\\\\x9c\\\\xd0\\\\xab\\\\xd0\\\\xa8\\\\xd0\\\\x9e\\\\xd0\\\\x9d\\\\xd0\\\\x9a\\\\xd0\\\\x90 \\\\xd0\\\\x94\\\\xd0\\\\x95\\\\xd0\\\\xa1\\\\xd0\\\\x9f\\\\xd0\\\\x95\\\\xd0\\\\xa0\\\\xd0\\\\x9e - royallib.ru.txt_lm', arg: u'ngram.count'\". Variable type: <type 'str'>\n",
      "2020-01-20 15:15:13 DFLT INFO Finished\n",
      "2020-01-20 15:15:13 FILE_OP INFO \"self: './input/\\\\xd0\\\\x94\\\\xd0\\\\xb5\\\\xd1\\\\x81\\\\xd0\\\\xbf\\\\xd0\\\\xb5\\\\xd1\\\\x80\\\\xd0\\\\xbe/\\\\xd0\\\\x94\\\\xd0\\\\xb8\\\\xd0\\\\xba\\\\xd0\\\\xb0\\\\xd0\\\\xbc\\\\xd0\\\\xb8\\\\xd0\\\\xbb\\\\xd0\\\\xbb\\\\xd0\\\\xbe \\\\xd0\\\\x9a\\\\xd0\\\\xb5\\\\xd0\\\\xb9\\\\xd1\\\\x82. \\\\xd0\\\\x9f\\\\xd0\\\\xa0\\\\xd0\\\\x98\\\\xd0\\\\x9a\\\\xd0\\\\x9b\\\\xd0\\\\xae\\\\xd0\\\\xa7\\\\xd0\\\\x95\\\\xd0\\\\x9d\\\\xd0\\\\x98\\\\xd0\\\\xaf \\\\xd0\\\\x9c\\\\xd0\\\\xab\\\\xd0\\\\xa8\\\\xd0\\\\x9e\\\\xd0\\\\x9d\\\\xd0\\\\x9a\\\\xd0\\\\x90 \\\\xd0\\\\x94\\\\xd0\\\\x95\\\\xd0\\\\xa1\\\\xd0\\\\x9f\\\\xd0\\\\x95\\\\xd0\\\\xa0\\\\xd0\\\\x9e - royallib.ru.txt_lm', arg: u'ngram.count'\". Variable type: <type 'str'>\n",
      "2020-01-20 15:15:13 FILE_OP INFO \"self: './input/\\\\xd0\\\\x94\\\\xd0\\\\xb5\\\\xd1\\\\x81\\\\xd0\\\\xbf\\\\xd0\\\\xb5\\\\xd1\\\\x80\\\\xd0\\\\xbe/\\\\xd0\\\\x94\\\\xd0\\\\xb8\\\\xd0\\\\xba\\\\xd0\\\\xb0\\\\xd0\\\\xbc\\\\xd0\\\\xb8\\\\xd0\\\\xbb\\\\xd0\\\\xbb\\\\xd0\\\\xbe \\\\xd0\\\\x9a\\\\xd0\\\\xb5\\\\xd0\\\\xb9\\\\xd1\\\\x82. \\\\xd0\\\\x9f\\\\xd0\\\\xa0\\\\xd0\\\\x98\\\\xd0\\\\x9a\\\\xd0\\\\x9b\\\\xd0\\\\xae\\\\xd0\\\\xa7\\\\xd0\\\\x95\\\\xd0\\\\x9d\\\\xd0\\\\x98\\\\xd0\\\\xaf \\\\xd0\\\\x9c\\\\xd0\\\\xab\\\\xd0\\\\xa8\\\\xd0\\\\x9e\\\\xd0\\\\x9d\\\\xd0\\\\x9a\\\\xd0\\\\x90 \\\\xd0\\\\x94\\\\xd0\\\\x95\\\\xd0\\\\xa1\\\\xd0\\\\x9f\\\\xd0\\\\x95\\\\xd0\\\\xa0\\\\xd0\\\\x9e - royallib.ru.txt_lm', arg: u'lang.model'\". Variable type: <type 'str'>\n"
     ]
    },
    {
     "name": "stderr",
     "output_type": "stream",
     "text": [
      "2020-01-20 15:15:13 DFLT INFO Making LM for built stats...\n",
      "2020-01-20 15:15:13 FILE_OP INFO executing path: [\"/SRILM/bin/i686-m64/ngram-count\" \"-order\" \"3\" \"-read\" \"./input/Десперо/Дикамилло Кейт. ПРИКЛЮЧЕНИЯ МЫШОНКА ДЕСПЕРО - royallib.ru.txt_lm/ngram.count\" \"-lm\" \"./input/Десперо/Дикамилло Кейт. ПРИКЛЮЧЕНИЯ МЫШОНКА ДЕСПЕРО - royallib.ru.txt_lm/lang.model\" \"()\"]\n",
      "2020-01-20 15:15:13 DFLT INFO Finished\n"
     ]
    }
   ],
   "source": [
    "import fileUtils as fu\n",
    "import re_lib as rel\n",
    "\n",
    "import srilm_utils as su\n",
    "\n",
    "src_path = fu.FilePathName('./input/Десперо')\n",
    "#filename = 'DiCamillo Kate. The Tale of Despereaux - royallib.com.txt'\n",
    "filename = 'Дикамилло Кейт. ПРИКЛЮЧЕНИЯ МЫШОНКА ДЕСПЕРО - royallib.ru.txt'\n",
    "lm_path  = src_path+(filename+'_lm')\n",
    "\n",
    "\n",
    "lm_path.makedirs()\n",
    "\n",
    "raw_src = src_path+filename\n",
    "\n",
    "proc_filename = filename+'.processed'\n",
    "src = src_path+proc_filename\n",
    "\n",
    "raw_text_enc = raw_src.cat()\n",
    "raw_text = raw_text_enc.decode('utf8')\n",
    "\n",
    "processing_repls = ((u'\\s*[,.!?;()]\\s*', u'\\r\\n'),\n",
    "                    (u' [-—] ', u''),\n",
    "                    (u'\\s*—\\s*', u''),\n",
    "                    (u'\\d+', u' '),\n",
    "                    (u' +', u' '),\n",
    "                    (u'[«»]', u''),\n",
    "                    (u'^\\s+', u''),\n",
    "#                    (u'', u''),\n",
    "                    (u'(\\r\\n\\s*){2,}', u'\\r\\n'),\n",
    ")\n",
    "\n",
    "processed_text = raw_text\n",
    "for pattern, repl in processing_repls:\n",
    "    processed_text = rel.sub(pattern, repl, processed_text)\n",
    "\n",
    "processed_text = processed_text.lower()\n",
    "\n",
    "src.write(processed_text.encode('utf8'))\n",
    "su.create_full_lm(3, src_path, proc_filename, lm_path, './tmp')"
   ]
  },
  {
   "cell_type": "code",
   "execution_count": null,
   "metadata": {},
   "outputs": [],
   "source": [
    "reload(su)"
   ]
  },
  {
   "cell_type": "code",
   "execution_count": null,
   "metadata": {},
   "outputs": [],
   "source": [
    "raw_text_enc[:100]"
   ]
  },
  {
   "cell_type": "code",
   "execution_count": null,
   "metadata": {},
   "outputs": [],
   "source": [
    "!$SRILM_PATH/ngram -help"
   ]
  },
  {
   "cell_type": "code",
   "execution_count": null,
   "metadata": {},
   "outputs": [],
   "source": [
    "len(raw_text)"
   ]
  },
  {
   "cell_type": "code",
   "execution_count": null,
   "metadata": {},
   "outputs": [],
   "source": [
    "raw_text[:100]"
   ]
  },
  {
   "cell_type": "code",
   "execution_count": null,
   "metadata": {},
   "outputs": [],
   "source": [
    "proc_sample = processed_text[212:600]"
   ]
  },
  {
   "cell_type": "code",
   "execution_count": null,
   "metadata": {},
   "outputs": [],
   "source": [
    "proc_sample"
   ]
  },
  {
   "cell_type": "code",
   "execution_count": null,
   "metadata": {},
   "outputs": [],
   "source": [
    "for l in proc_sample.split('\\r\\n'):\n",
    "    print(l)"
   ]
  },
  {
   "cell_type": "code",
   "execution_count": null,
   "metadata": {},
   "outputs": [],
   "source": [
    "from importlib2 import reload"
   ]
  },
  {
   "cell_type": "code",
   "execution_count": null,
   "metadata": {},
   "outputs": [],
   "source": [
    "!./srilm_utils.py create_full_lm order $src 'DiCamillo Kate. The Tale of Despereaux - royallib.com.txt' $lm_path ./tmp"
   ]
  }
 ],
 "metadata": {
  "kernelspec": {
   "display_name": "Python 2",
   "language": "python",
   "name": "python2"
  },
  "language_info": {
   "codemirror_mode": {
    "name": "ipython",
    "version": 2
   },
   "file_extension": ".py",
   "mimetype": "text/x-python",
   "name": "python",
   "nbconvert_exporter": "python",
   "pygments_lexer": "ipython2",
   "version": "2.7.15rc1"
  }
 },
 "nbformat": 4,
 "nbformat_minor": 2
}

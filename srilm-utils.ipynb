{
 "cells": [
  {
   "cell_type": "code",
   "execution_count": null,
   "metadata": {},
   "outputs": [],
   "source": [
    "!ls $SRILM_PATH/ngram"
   ]
  },
  {
   "cell_type": "code",
   "execution_count": null,
   "metadata": {},
   "outputs": [],
   "source": [
    "!ls tmp"
   ]
  },
  {
   "cell_type": "code",
   "execution_count": null,
   "metadata": {},
   "outputs": [],
   "source": [
    "!ls"
   ]
  },
  {
   "cell_type": "markdown",
   "metadata": {},
   "source": [
    "Основной скрипт - srilm_utils.py. его параметры:\n",
    "\n",
    "Создание модели по папке с исходными файлами:\n",
    "create_full_lm order src_path file_mask dst_path tmp_path [vocab_file] [smooth_args]\n",
    "\n",
    "Создание статистики:\n",
    "create_ngram_stats order src_path file_mask dst_path tmp_path [prev_stats]\n",
    "\n",
    "Создание модели по готовой статистике:\n",
    "create_lm order src_path dst_path [vocab_file] [smooth_args]"
   ]
  },
  {
   "cell_type": "code",
   "execution_count": null,
   "metadata": {},
   "outputs": [],
   "source": [
    "SRILM_PATH = '/SRILM/bin/i686-m64'"
   ]
  },
  {
   "cell_type": "code",
   "execution_count": 2,
   "metadata": {},
   "outputs": [
    {
     "name": "stderr",
     "output_type": "stream",
     "text": [
      "2020-01-20 11:30:29 FILE_OP DEBUG ('/notebooks/srilm-utils/environment/fileUtils.py', 370, 'to_fs'): self.path: './input/Despereaux/lm'\n"
     ]
    }
   ],
   "source": [
    "!mkdir $lm_path"
   ]
  },
  {
   "cell_type": "code",
   "execution_count": null,
   "metadata": {},
   "outputs": [],
   "source": [
    "import fileUtils as fu\n",
    "import srilm_utils as su\n",
    "\n",
    "src=fu.FilePathName('./input/Despereaux')\n",
    "lm_path=src+'lm'"
   ]
  },
  {
   "cell_type": "code",
   "execution_count": 3,
   "metadata": {},
   "outputs": [
    {
     "name": "stderr",
     "output_type": "stream",
     "text": [
      "2020-01-20 11:30:48 FILE_OP DEBUG ('/notebooks/srilm-utils/environment/fileUtils.py', 308, 'autoenc'): autoenc src string: './tmp'\n",
      "2020-01-20 11:30:48 FILE_OP DEBUG ('/notebooks/srilm-utils/environment/fileUtils.py', 370, 'to_fs'): self.path: './input/Despereaux'\n",
      "2020-01-20 11:30:48 DFLT INFO Searching for source files DiCamillo Kate. The Tale of Despereaux - royallib.com.txt in [./input/Despereaux]:\n",
      "2020-01-20 11:30:48 DFLT INFO Searching for \"DiCamillo Kate. The Tale of Despereaux - royallib.com.txt\" in path [./input/Despereaux]...\n",
      "2020-01-20 11:30:48 FILE_OP DEBUG ('/notebooks/srilm-utils/environment/fileUtils.py', 308, 'autoenc'): autoenc src string: './input/Despereaux'\n",
      "2020-01-20 11:30:48 FILE_OP DEBUG ('/notebooks/srilm-utils/environment/fileUtils.py', 308, 'autoenc'): autoenc src string: '\\xd0\\x94\\xd0\\xb8\\xd0\\xba\\xd0\\xb0\\xd0\\xbc\\xd0\\xb8\\xd0\\xbb\\xd0\\xbb\\xd0\\xbe \\xd0\\x9a\\xd0\\xb5\\xd0\\xb9\\xd1\\x82. \\xd0\\x9f\\xd0\\xa0\\xd0\\x98\\xd0\\x9a\\xd0\\x9b\\xd0\\xae\\xd0\\xa7\\xd0\\x95\\xd0\\x9d\\xd0\\x98\\xd0\\xaf \\xd0\\x9c\\xd0\\xab\\xd0\\xa8\\xd0\\x9e\\xd0\\x9d\\xd0\\x9a\\xd0\\x90 \\xd0\\x94\\xd0\\x95\\xd0\\xa1\\xd0\\x9f\\xd0\\x95\\xd0\\xa0\\xd0\\x9e - royallib.ru.txt'\n",
      "2020-01-20 11:30:48 FILE_OP DEBUG ('/notebooks/srilm-utils/environment/fileUtils.py', 308, 'autoenc'): autoenc src string: '\\xd0\\x94\\xd0\\xb8\\xd0\\xba\\xd0\\xb0\\xd0\\xbc\\xd0\\xb8\\xd0\\xbb\\xd0\\xbb\\xd0\\xbe \\xd0\\x9a\\xd0\\xb5\\xd0\\xb9\\xd1\\x82. \\xd0\\x9f\\xd0\\xa0\\xd0\\x98\\xd0\\x9a\\xd0\\x9b\\xd0\\xae\\xd0\\xa7\\xd0\\x95\\xd0\\x9d\\xd0\\x98\\xd0\\xaf \\xd0\\x9c\\xd0\\xab\\xd0\\xa8\\xd0\\x9e\\xd0\\x9d\\xd0\\x9a\\xd0\\x90 \\xd0\\x94\\xd0\\x95\\xd0\\xa1\\xd0\\x9f\\xd0\\x95\\xd0\\xa0\\xd0\\x9e - royallib.ru.txt'\n",
      "2020-01-20 11:30:48 FILE_OP DEBUG ('/notebooks/srilm-utils/environment/fileUtils.py', 308, 'autoenc'): autoenc src string: './input/Despereaux/\\xd0\\x94\\xd0\\xb8\\xd0\\xba\\xd0\\xb0\\xd0\\xbc\\xd0\\xb8\\xd0\\xbb\\xd0\\xbb\\xd0\\xbe \\xd0\\x9a\\xd0\\xb5\\xd0\\xb9\\xd1\\x82. \\xd0\\x9f\\xd0\\xa0\\xd0\\x98\\xd0\\x9a\\xd0\\x9b\\xd0\\xae\\xd0\\xa7\\xd0\\x95\\xd0\\x9d\\xd0\\x98\\xd0\\xaf \\xd0\\x9c\\xd0\\xab\\xd0\\xa8\\xd0\\x9e\\xd0\\x9d\\xd0\\x9a\\xd0\\x90 \\xd0\\x94\\xd0\\x95\\xd0\\xa1\\xd0\\x9f\\xd0\\x95\\xd0\\xa0\\xd0\\x9e - royallib.ru.txt'\n",
      "2020-01-20 11:30:49 FILE_OP DEBUG ('/notebooks/srilm-utils/environment/fileUtils.py', 308, 'autoenc'): autoenc src string: 'DiCamillo Kate. The Tale of Despereaux - royallib.com.txt'\n",
      "2020-01-20 11:30:49 FILE_OP DEBUG ('/notebooks/srilm-utils/environment/fileUtils.py', 308, 'autoenc'): autoenc src string: 'DiCamillo Kate. The Tale of Despereaux - royallib.com.txt'\n",
      "2020-01-20 11:30:49 FILE_OP DEBUG ('/notebooks/srilm-utils/environment/fileUtils.py', 308, 'autoenc'): autoenc src string: './input/Despereaux/lm'\n",
      "2020-01-20 11:30:49 FILE_OP DEBUG ('/notebooks/srilm-utils/environment/fileUtils.py', 370, 'to_fs'): self.path: './input/Despereaux/\\xd0\\x94\\xd0\\xb8\\xd0\\xba\\xd0\\xb0\\xd0\\xbc\\xd0\\xb8\\xd0\\xbb\\xd0\\xbb\\xd0\\xbe \\xd0\\x9a\\xd0\\xb5\\xd0\\xb9\\xd1\\x82. \\xd0\\x9f\\xd0\\xa0\\xd0\\x98\\xd0\\x9a\\xd0\\x9b\\xd0\\xae\\xd0\\xa7\\xd0\\x95\\xd0\\x9d\\xd0\\x98\\xd0\\xaf \\xd0\\x9c\\xd0\\xab\\xd0\\xa8\\xd0\\x9e\\xd0\\x9d\\xd0\\x9a\\xd0\\x90 \\xd0\\x94\\xd0\\x95\\xd0\\xa1\\xd0\\x9f\\xd0\\x95\\xd0\\xa0\\xd0\\x9e - royallib.ru.txt'\n",
      "2020-01-20 11:30:49 FILE_OP DEBUG ('/notebooks/srilm-utils/environment/fileUtils.py', 370, 'to_fs'): self.path: './input/Despereaux/DiCamillo Kate. The Tale of Despereaux - royallib.com.txt'\n",
      "2020-01-20 11:30:49 DFLT INFO Files found: 1\n",
      "2020-01-20 11:30:49 DFLT INFO Sources found: 1\n",
      "2020-01-20 11:30:49 DFLT INFO Reading sources piped to ngram-count for statistics...\n",
      "2020-01-20 11:30:49 FILE_OP DEBUG ('/notebooks/srilm-utils/environment/fileUtils.py', 370, 'to_fs'): self.path: './input/Despereaux/DiCamillo Kate. The Tale of Despereaux - royallib.com.txt'\n",
      "2020-01-20 11:30:49 DFLT INFO 0 lines read\n",
      "2020-01-20 11:30:49 FILE_OP DEBUG ('/notebooks/srilm-utils/environment/fileUtils.py', 308, 'autoenc'): autoenc src string: 'ngram.count.0'\n",
      "2020-01-20 11:30:49 FILE_OP DEBUG ('/notebooks/srilm-utils/environment/fileUtils.py', 308, 'autoenc'): autoenc src string: 'ngram.count.0'\n",
      "2020-01-20 11:30:49 FILE_OP DEBUG ('/notebooks/srilm-utils/environment/fileUtils.py', 370, 'to_fs'): self.path: './tmp/ngram.count.0'\n",
      "2020-01-20 11:30:49 FILE_OP DEBUG ('/notebooks/srilm-utils/environment/fileUtils.py', 308, 'autoenc'): autoenc src string: '/SRILM/bin/i686-m64/ngram-count'\n",
      "2020-01-20 11:30:49 FILE_OP DEBUG ('/notebooks/srilm-utils/environment/fileUtils.py', 308, 'autoenc'): autoenc src string: '-order'\n",
      "2020-01-20 11:30:49 FILE_OP DEBUG ('/notebooks/srilm-utils/environment/fileUtils.py', 308, 'autoenc'): autoenc src string: '3'\n",
      "2020-01-20 11:30:49 FILE_OP DEBUG ('/notebooks/srilm-utils/environment/fileUtils.py', 308, 'autoenc'): autoenc src string: '-text'\n",
      "2020-01-20 11:30:49 FILE_OP DEBUG ('/notebooks/srilm-utils/environment/fileUtils.py', 308, 'autoenc'): autoenc src string: '-'\n",
      "2020-01-20 11:30:49 FILE_OP DEBUG ('/notebooks/srilm-utils/environment/fileUtils.py', 308, 'autoenc'): autoenc src string: '-sort'\n",
      "2020-01-20 11:30:49 FILE_OP DEBUG ('/notebooks/srilm-utils/environment/fileUtils.py', 308, 'autoenc'): autoenc src string: '-write'\n",
      "2020-01-20 11:30:49 FILE_OP DEBUG ('/notebooks/srilm-utils/environment/fileUtils.py', 308, 'autoenc'): autoenc src string: './tmp/ngram.count.0'\n",
      "2020-01-20 11:30:49 FILE_OP INFO executing path: [\"/SRILM/bin/i686-m64/ngram-count\" \"-order\" \"3\" \"-text\" \"-\" \"-sort\" \"-write\" \"./tmp/ngram.count.0\"]\n",
      "2020-01-20 11:30:49 DFLT INFO Source reading finished. Waiting for ngram-counts finish...\n",
      "2020-01-20 11:30:49 FILE_OP DEBUG ('/notebooks/srilm-utils/environment/fileUtils.py', 308, 'autoenc'): autoenc src string: 'ngram.count'\n",
      "2020-01-20 11:30:49 FILE_OP DEBUG ('/notebooks/srilm-utils/environment/fileUtils.py', 308, 'autoenc'): autoenc src string: 'ngram.count'\n",
      "2020-01-20 11:30:49 DFLT INFO Finished\n",
      "2020-01-20 11:30:49 FILE_OP DEBUG ('/notebooks/srilm-utils/environment/fileUtils.py', 308, 'autoenc'): autoenc src string: 'ngram.count'\n",
      "2020-01-20 11:30:49 FILE_OP DEBUG ('/notebooks/srilm-utils/environment/fileUtils.py', 308, 'autoenc'): autoenc src string: 'ngram.count'\n",
      "2020-01-20 11:30:49 FILE_OP DEBUG ('/notebooks/srilm-utils/environment/fileUtils.py', 308, 'autoenc'): autoenc src string: 'lang.model'\n",
      "2020-01-20 11:30:49 FILE_OP DEBUG ('/notebooks/srilm-utils/environment/fileUtils.py', 308, 'autoenc'): autoenc src string: 'lang.model'\n",
      "2020-01-20 11:30:49 DFLT INFO Making LM for built stats...\n",
      "2020-01-20 11:30:49 FILE_OP DEBUG ('/notebooks/srilm-utils/environment/fileUtils.py', 370, 'to_fs'): self.path: './input/Despereaux/lm/ngram.count'\n",
      "2020-01-20 11:30:49 FILE_OP DEBUG ('/notebooks/srilm-utils/environment/fileUtils.py', 370, 'to_fs'): self.path: './input/Despereaux/lm/lang.model'\n",
      "2020-01-20 11:30:49 FILE_OP DEBUG ('/notebooks/srilm-utils/environment/fileUtils.py', 308, 'autoenc'): autoenc src string: '/SRILM/bin/i686-m64/ngram-count'\n",
      "2020-01-20 11:30:49 FILE_OP DEBUG ('/notebooks/srilm-utils/environment/fileUtils.py', 308, 'autoenc'): autoenc src string: '-order'\n",
      "2020-01-20 11:30:49 FILE_OP DEBUG ('/notebooks/srilm-utils/environment/fileUtils.py', 308, 'autoenc'): autoenc src string: '3'\n",
      "2020-01-20 11:30:49 FILE_OP DEBUG ('/notebooks/srilm-utils/environment/fileUtils.py', 308, 'autoenc'): autoenc src string: '-read'\n",
      "2020-01-20 11:30:49 FILE_OP DEBUG ('/notebooks/srilm-utils/environment/fileUtils.py', 308, 'autoenc'): autoenc src string: './input/Despereaux/lm/ngram.count'\n",
      "2020-01-20 11:30:49 FILE_OP DEBUG ('/notebooks/srilm-utils/environment/fileUtils.py', 308, 'autoenc'): autoenc src string: '-lm'\n",
      "2020-01-20 11:30:49 FILE_OP DEBUG ('/notebooks/srilm-utils/environment/fileUtils.py', 308, 'autoenc'): autoenc src string: './input/Despereaux/lm/lang.model'\n",
      "2020-01-20 11:30:49 FILE_OP DEBUG ('/notebooks/srilm-utils/environment/fileUtils.py', 308, 'autoenc'): autoenc src string: '()'\n",
      "2020-01-20 11:30:49 FILE_OP INFO executing path: [\"/SRILM/bin/i686-m64/ngram-count\" \"-order\" \"3\" \"-read\" \"./input/Despereaux/lm/ngram.count\" \"-lm\" \"./input/Despereaux/lm/lang.model\" \"()\"]\n",
      "2020-01-20 11:30:49 DFLT INFO Finished\n"
     ]
    }
   ],
   "source": [
    "su.create_full_lm(3, src, 'DiCamillo Kate. The Tale of Despereaux - royallib.com.txt', lm_path, './tmp')"
   ]
  },
  {
   "cell_type": "code",
   "execution_count": null,
   "metadata": {},
   "outputs": [],
   "source": [
    "reload(su)"
   ]
  },
  {
   "cell_type": "code",
   "execution_count": null,
   "metadata": {},
   "outputs": [],
   "source": [
    "from importlib2 import reload"
   ]
  },
  {
   "cell_type": "code",
   "execution_count": null,
   "metadata": {},
   "outputs": [],
   "source": [
    "!./srilm_utils.py create_full_lm order $src 'DiCamillo Kate. The Tale of Despereaux - royallib.com.txt' $lm_path ./tmp"
   ]
  }
 ],
 "metadata": {
  "kernelspec": {
   "display_name": "Python 2",
   "language": "python",
   "name": "python2"
  },
  "language_info": {
   "codemirror_mode": {
    "name": "ipython",
    "version": 2
   },
   "file_extension": ".py",
   "mimetype": "text/x-python",
   "name": "python",
   "nbconvert_exporter": "python",
   "pygments_lexer": "ipython2",
   "version": "2.7.15rc1"
  }
 },
 "nbformat": 4,
 "nbformat_minor": 2
}
